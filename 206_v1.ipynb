{
 "cells": [
  {
   "cell_type": "code",
   "execution_count": 25,
   "metadata": {},
   "outputs": [
    {
     "name": "stdout",
     "output_type": "stream",
     "text": [
      "3\n",
      "1 2 3 4\n",
      "Preparation time =  0.0014463669995166129\n",
      "n1 =  1002 n^2 =  1004004\n",
      "\n",
      "n2 =  1008 n^2 =  1016064\n",
      "\n",
      "n1 =  1012 n^2 =  1024144\n",
      "\n",
      "n2 =  1018 n^2 =  1036324\n",
      "\n",
      "n1 =  1022 n^2 =  1044484\n",
      "\n",
      "n2 =  1028 n^2 =  1056784\n",
      "\n",
      "n1 =  1032 n^2 =  1065024\n",
      "\n",
      "n2 =  1038 n^2 =  1077444\n",
      "\n",
      "n1 =  1042 n^2 =  1085764\n",
      "\n",
      "n2 =  1048 n^2 =  1098304\n",
      "\n",
      "n1 =  1052 n^2 =  1106704\n",
      "\n",
      "n2 =  1058 n^2 =  1119364\n",
      "\n",
      "n1 =  1062 n^2 =  1127844\n",
      "\n",
      "n2 =  1068 n^2 =  1140624\n",
      "\n",
      "n1 =  1072 n^2 =  1149184\n",
      "\n",
      "n2 =  1078 n^2 =  1162084\n",
      "\n",
      "n1 =  1082 n^2 =  1170724\n",
      "\n",
      "n2 =  1088 n^2 =  1183744\n",
      "\n",
      "n1 =  1092 n^2 =  1192464\n",
      "\n",
      "n2 =  1098 n^2 =  1205604\n",
      "\n",
      "n1 =  1102 n^2 =  1214404\n",
      "\n",
      "n2 =  1108 n^2 =  1227664\n",
      "\n",
      "n1 =  1112 n^2 =  1236544\n",
      "\n",
      "n2 =  1118 n^2 =  1249924\n",
      "\n",
      "n1 =  1122 n^2 =  1258884\n",
      "\n",
      "n2 =  1128 n^2 =  1272384\n",
      "\n",
      "n1 =  1132 n^2 =  1281424\n",
      "\n",
      "n2 =  1138 n^2 =  1295044\n",
      "\n",
      "n1 =  1142 n^2 =  1304164\n",
      "\n",
      "n2 =  1148 n^2 =  1317904\n",
      "\n",
      "n1 =  1152 n^2 =  1327104\n",
      "\n",
      "n2 =  1158 n^2 =  1340964\n",
      "\n",
      "n1 =  1162 n^2 =  1350244\n",
      "\n",
      "n2 =  1168 n^2 =  1364224\n",
      "\n",
      "n1 =  1172 n^2 =  1373584\n",
      "\n",
      "n2 =  1178 n^2 =  1387684\n",
      "\n",
      "n1 =  1182 n^2 =  1397124\n",
      "\n",
      "n2 =  1188 n^2 =  1411344\n",
      "\n",
      "n1 =  1192 n^2 =  1420864\n",
      "\n",
      "n2 =  1198 n^2 =  1435204\n",
      "\n",
      "n1 =  1202 n^2 =  1444804\n",
      "\n",
      "n2 =  1208 n^2 =  1459264\n",
      "\n",
      "n1 =  1212 n^2 =  1468944\n",
      "\n",
      "n2 =  1218 n^2 =  1483524\n",
      "\n",
      "n1 =  1222 n^2 =  1493284\n",
      "\n",
      "n2 =  1228 n^2 =  1507984\n",
      "\n",
      "n1 =  1232 n^2 =  1517824\n",
      "\n",
      "n2 =  1238 n^2 =  1532644\n",
      "\n",
      "n1 =  1242 n^2 =  1542564\n",
      "\n",
      "n2 =  1248 n^2 =  1557504\n",
      "\n",
      "n1 =  1252 n^2 =  1567504\n",
      "\n",
      "n2 =  1258 n^2 =  1582564\n",
      "\n",
      "n1 =  1262 n^2 =  1592644\n",
      "\n",
      "n2 =  1268 n^2 =  1607824\n",
      "\n",
      "n1 =  1272 n^2 =  1617984\n",
      "\n",
      "n2 =  1278 n^2 =  1633284\n",
      "\n",
      "n1 =  1282 n^2 =  1643524\n",
      "\n",
      "n2 =  1288 n^2 =  1658944\n",
      "\n",
      "n1 =  1292 n^2 =  1669264\n",
      "\n",
      "n2 =  1298 n^2 =  1684804\n",
      "\n",
      "n1 =  1302 n^2 =  1695204\n",
      "\n",
      "n2 =  1308 n^2 =  1710864\n",
      "\n",
      "n1 =  1312 n^2 =  1721344\n",
      "1312\n",
      "calculation time =  0.014553988999978174\n"
     ]
    }
   ],
   "source": [
    "# Enter your code here. Read input from STDIN. Print output to STDOUT\n",
    "# Project Euler #206: Concealed Square\n",
    "import math\n",
    "import timeit\n",
    "\n",
    "n = int(input())\n",
    "str_num = input()\n",
    "start_time = timeit.default_timer()\n",
    "\n",
    "s = str_num.replace(' ','')\n",
    "last_zeros = len(s)-len(s.rstrip('0'))\n",
    "zero_flag = False\n",
    "if(last_zeros>0):\n",
    "    str_num = str_num[:-(2*last_zeros)]\n",
    "    zero_flag = True\n",
    "\n",
    "def check(number,pattern):\n",
    "    square_number = str(number **2)\n",
    "    return square_number[::2] == pattern\n",
    "\n",
    "pattern = str_num.replace(' ','')\n",
    "num = pattern\n",
    "lower_bound = int(math.sqrt(int(str_num.replace(' ','0'))))\n",
    "upper_bound = int(math.sqrt(int(str_num.replace(' ','9'))))+1\n",
    "\n",
    "s = str(lower_bound **2)\n",
    "if(s[::2] == pattern):\n",
    "        print(s,'0'*last_zeros,sep='')\n",
    "        exit()\n",
    "s = str(upper_bound **2)\n",
    "if(s[::2] == pattern):\n",
    "        print(s,'0'*last_zeros,sep='')\n",
    "        exit()\n",
    "\n",
    "lower_bound_one = 0\n",
    "lower_bound_two = 0\n",
    "\n",
    "if(num[-1] == '9'):\n",
    "    lower_bound_one = lower_bound\n",
    "    while lower_bound_one%10 != 3:\n",
    "        lower_bound_one = lower_bound_one - 1\n",
    "\n",
    "    lower_bound_two = lower_bound\n",
    "    while lower_bound_two%10 != 7:\n",
    "        lower_bound_two = lower_bound_two - 1\n",
    "        \n",
    "elif(num[-1] == '6'):\n",
    "    lower_bound_one = lower_bound \n",
    "    while lower_bound_one%10 != 4:\n",
    "        lower_bound_one = lower_bound_one - 1\n",
    "  \n",
    "    lower_bound_two = (lower_bound - 1)\n",
    "    while lower_bound_two%10 != 6:\n",
    "        lower_bound_two = lower_bound_two - 1\n",
    "\n",
    "elif(num[-1] == '5'):\n",
    "    lower_bound_one = lower_bound\n",
    "    while lower_bound_one%10 != 5:\n",
    "        lower_bound_one = lower_bound_one - 1\n",
    "    lower_bound_two = upper_bound\n",
    "        \n",
    "elif(num[-1] == '4'):\n",
    "    lower_bound_one = lower_bound\n",
    "    while lower_bound_one%10 != 2:\n",
    "        lower_bound_one = lower_bound_one - 1\n",
    "    \n",
    "    lower_bound_two = lower_bound\n",
    "    while lower_bound_two%10 != 8:\n",
    "        lower_bound_two = lower_bound_two - 1\n",
    "\n",
    "elif(num[-1] == '1'):\n",
    "    lower_bound_one = lower_bound\n",
    "    while lower_bound_one%10 != 9 and lower_bound_one >= 9 :\n",
    "        lower_bound_one = lower_bound_one - 1\n",
    "\n",
    "    lower_bound_two = lower_bound\n",
    "    while lower_bound_two%10 != 1:\n",
    "        lower_bound_two = lower_bound_two - 1\n",
    "\n",
    "\n",
    "elapsed = timeit.default_timer() - start_time\n",
    "print(\"Preparation time = \", elapsed)\n",
    "flag1 = False\n",
    "flag2 = False\n",
    "incr_one_by_n1 = lower_bound_one\n",
    "incr_one_by_n2 = lower_bound_two\n",
    "\n",
    "start_time = timeit.default_timer()\n",
    "while True:\n",
    "    if((incr_one_by_n1 <= upper_bound) or (incr_one_by_n2 <= upper_bound) ):\n",
    "        \n",
    "        if( check(incr_one_by_n1, pattern) != True ):\n",
    "            print(\"n1 = \",incr_one_by_n1 , \"n^2 = \", incr_one_by_n1**2)\n",
    "            print()\n",
    "            incr_one_by_n1 = incr_one_by_n1 + 10\n",
    "        else:\n",
    "            print(\"n1 = \",incr_one_by_n1 , \"n^2 = \", incr_one_by_n1**2)\n",
    "            print(incr_one_by_n1,'0'*last_zeros,sep='')\n",
    "            flag1 = True\n",
    "            break\n",
    "        \n",
    "        if(check(incr_one_by_n2,pattern) != True):\n",
    "            print(\"n2 = \",incr_one_by_n2 , \"n^2 = \", incr_one_by_n2**2)\n",
    "            print()\n",
    "            incr_one_by_n2 = incr_one_by_n2 + 10\n",
    "                \n",
    "        else:\n",
    "            print(\"n2 = \",incr_one_by_n2 , \"n^2 = \", incr_one_by_n2**2)\n",
    "            print(incr_one_by_n2,'0'*last_zeros,sep='')\n",
    "            flag2 = True\n",
    "            break\n",
    "    else:\n",
    "        flag1 = True\n",
    "        flag2 = True\n",
    "        break\n",
    "    if(flag1 and flag2):\n",
    "        break\n",
    "\n",
    "elapsed = timeit.default_timer() - start_time\n",
    "print(\"calculation time = \",elapsed)"
   ]
  },
  {
   "cell_type": "markdown",
   "metadata": {},
   "source": [
    "# 285%6"
   ]
  },
  {
   "cell_type": "code",
   "execution_count": 24,
   "metadata": {},
   "outputs": [
    {
     "data": {
      "text/plain": [
       "5780"
      ]
     },
     "execution_count": 24,
     "metadata": {},
     "output_type": "execute_result"
    }
   ],
   "source": [
    "86436 -80656"
   ]
  },
  {
   "cell_type": "code",
   "execution_count": 10,
   "metadata": {},
   "outputs": [
    {
     "data": {
      "text/plain": [
       "20340"
      ]
     },
     "execution_count": 10,
     "metadata": {},
     "output_type": "execute_result"
    }
   ],
   "source": [
    "1044484 - 1024144"
   ]
  },
  {
   "cell_type": "code",
   "execution_count": 11,
   "metadata": {},
   "outputs": [
    {
     "data": {
      "text/plain": [
       "20540"
      ]
     },
     "execution_count": 11,
     "metadata": {},
     "output_type": "execute_result"
    }
   ],
   "source": [
    "1065024 - 1044484"
   ]
  },
  {
   "cell_type": "code",
   "execution_count": 12,
   "metadata": {},
   "outputs": [
    {
     "data": {
      "text/plain": [
       "20740"
      ]
     },
     "execution_count": 12,
     "metadata": {},
     "output_type": "execute_result"
    }
   ],
   "source": [
    "1085764 - 1065024"
   ]
  },
  {
   "cell_type": "code",
   "execution_count": 14,
   "metadata": {},
   "outputs": [
    {
     "data": {
      "text/plain": [
       "20940"
      ]
     },
     "execution_count": 14,
     "metadata": {},
     "output_type": "execute_result"
    }
   ],
   "source": [
    "1106704 - 1085764"
   ]
  },
  {
   "cell_type": "code",
   "execution_count": 15,
   "metadata": {},
   "outputs": [
    {
     "data": {
      "text/plain": [
       "21140"
      ]
     },
     "execution_count": 15,
     "metadata": {},
     "output_type": "execute_result"
    }
   ],
   "source": [
    "1127844 - 1106704"
   ]
  },
  {
   "cell_type": "code",
   "execution_count": 16,
   "metadata": {},
   "outputs": [
    {
     "data": {
      "text/plain": [
       "21340"
      ]
     },
     "execution_count": 16,
     "metadata": {},
     "output_type": "execute_result"
    }
   ],
   "source": [
    "1149184 - 1127844\n",
    "21340 - "
   ]
  },
  {
   "cell_type": "markdown",
   "metadata": {},
   "source": [
    "n2"
   ]
  },
  {
   "cell_type": "code",
   "execution_count": 17,
   "metadata": {},
   "outputs": [
    {
     "data": {
      "text/plain": [
       "-20260"
      ]
     },
     "execution_count": 17,
     "metadata": {},
     "output_type": "execute_result"
    }
   ],
   "source": [
    "1016064 - 1036324"
   ]
  },
  {
   "cell_type": "code",
   "execution_count": 18,
   "metadata": {},
   "outputs": [
    {
     "data": {
      "text/plain": [
       "20460"
      ]
     },
     "execution_count": 18,
     "metadata": {},
     "output_type": "execute_result"
    }
   ],
   "source": [
    "1056784 - 1036324"
   ]
  },
  {
   "cell_type": "code",
   "execution_count": 19,
   "metadata": {},
   "outputs": [
    {
     "data": {
      "text/plain": [
       "20660"
      ]
     },
     "execution_count": 19,
     "metadata": {},
     "output_type": "execute_result"
    }
   ],
   "source": [
    "1077444 - 1056784"
   ]
  },
  {
   "cell_type": "code",
   "execution_count": 20,
   "metadata": {},
   "outputs": [
    {
     "data": {
      "text/plain": [
       "20860"
      ]
     },
     "execution_count": 20,
     "metadata": {},
     "output_type": "execute_result"
    }
   ],
   "source": [
    "1098304 - 1077444"
   ]
  },
  {
   "cell_type": "code",
   "execution_count": 22,
   "metadata": {},
   "outputs": [
    {
     "data": {
      "text/plain": [
       "20640"
      ]
     },
     "execution_count": 22,
     "metadata": {},
     "output_type": "execute_result"
    }
   ],
   "source": [
    "1075369 - 1054729"
   ]
  },
  {
   "cell_type": "code",
   "execution_count": null,
   "metadata": {},
   "outputs": [],
   "source": []
  }
 ],
 "metadata": {
  "kernelspec": {
   "display_name": "Python 3",
   "language": "python",
   "name": "python3"
  },
  "language_info": {
   "codemirror_mode": {
    "name": "ipython",
    "version": 3
   },
   "file_extension": ".py",
   "mimetype": "text/x-python",
   "name": "python",
   "nbconvert_exporter": "python",
   "pygments_lexer": "ipython3",
   "version": "3.7.4"
  }
 },
 "nbformat": 4,
 "nbformat_minor": 2
}
