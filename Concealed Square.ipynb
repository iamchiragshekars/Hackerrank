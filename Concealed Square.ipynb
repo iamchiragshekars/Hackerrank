{
 "cells": [
  {
   "cell_type": "code",
   "execution_count": 6,
   "metadata": {},
   "outputs": [
    {
     "name": "stdout",
     "output_type": "stream",
     "text": [
      "10\n",
      "1 2 3 4 5 6 7 8 9 0\n",
      "1389019170\n"
     ]
    }
   ],
   "source": [
    "# Project Euler #206: Concealed Square\n",
    "import math\n",
    "import sys\n",
    "n = int(input())\n",
    "str_num = input()\n",
    "\n",
    "\n",
    "s = str_num.replace(' ','')\n",
    "no_of_zeros = n -len(s.rstrip('0'))\n",
    "zero_flag = False\n",
    "\n",
    "if(no_of_zeros>0):\n",
    "    str_num = str_num[:-(2*no_of_zeros)]\n",
    "    zero_flag = True\n",
    "\n",
    "def check(number,pattern):\n",
    "    square_number = str(number **2)\n",
    "    return square_number[::2] == pattern\n",
    "\n",
    "pattern = str_num.replace(' ','')\n",
    "\n",
    "lower_bound = int(math.sqrt(int(str_num.replace(' ','0'))))\n",
    "upper_bound = int(math.sqrt(int(str_num.replace(' ','9'))))+1\n",
    "\n",
    "s = str(lower_bound **2)\n",
    "if(s[::2] == pattern):\n",
    "        print(s,'0'*no_of_zeros,sep='')\n",
    "        sys.exit()\n",
    "s = str(upper_bound **2)\n",
    "if(s[::2] == pattern):\n",
    "        print(s,'0'*no_of_zeros,sep='')\n",
    "        sys.exit()\n",
    "\n",
    "lower_bound_one = 0\n",
    "lower_bound_two = 0\n",
    "\n",
    "last_digit = pattern[-1]\n",
    "if(last_digit == '9'):\n",
    "    lower_bound_one = lower_bound\n",
    "    while lower_bound_one%10 != 3 and lower_bound_one > 0:\n",
    "        lower_bound_one = lower_bound_one - 1\n",
    "\n",
    "    lower_bound_two = lower_bound\n",
    "    while lower_bound_two%10 != 7 and lower_bound_one > 0:\n",
    "        lower_bound_two = lower_bound_two - 1\n",
    "        \n",
    "elif(last_digit == '6'):\n",
    "    lower_bound_one = lower_bound \n",
    "    while lower_bound_one%10 != 4 and lower_bound_one > 0:\n",
    "        lower_bound_one = lower_bound_one - 1\n",
    "  \n",
    "    lower_bound_two = (lower_bound - 1)\n",
    "    while lower_bound_two%10 != 6 and lower_bound_one > 0:\n",
    "        lower_bound_two = lower_bound_two - 1\n",
    "\n",
    "elif(last_digit == '5'):\n",
    "    lower_bound_one = lower_bound\n",
    "    while lower_bound_one%10 != 5 and lower_bound_one > 0:\n",
    "        lower_bound_one = lower_bound_one - 1\n",
    "    lower_bound_two = upper_bound\n",
    "        \n",
    "elif(last_digit == '4'):\n",
    "    lower_bound_one = lower_bound\n",
    "    while lower_bound_one%10 != 2 and lower_bound_one > 0:\n",
    "        lower_bound_one = lower_bound_one - 1\n",
    "    \n",
    "    lower_bound_two = lower_bound\n",
    "    while lower_bound_two%10 != 8 and lower_bound_one > 0:\n",
    "        lower_bound_two = lower_bound_two - 1\n",
    "\n",
    "elif(last_digit == '1'):\n",
    "    lower_bound_one = lower_bound\n",
    "    while lower_bound_one%10 != 9 and lower_bound_one >= 9 :\n",
    "        lower_bound_one = lower_bound_one - 1\n",
    "\n",
    "    lower_bound_two = lower_bound\n",
    "    while lower_bound_two%10 != 1 and lower_bound_one > 0:\n",
    "        lower_bound_two = lower_bound_two - 1\n",
    "\n",
    "\n",
    "flag1 = False\n",
    "flag2 = False\n",
    "incr_one_by_n1 = lower_bound_one\n",
    "incr_one_by_n2 = lower_bound_two\n",
    "\n",
    "while True:\n",
    "    if((incr_one_by_n1 <= upper_bound) or (incr_one_by_n2 <= upper_bound) ):\n",
    "        \n",
    "        if( check(incr_one_by_n1, pattern) != True ):\n",
    "            incr_one_by_n1 = incr_one_by_n1 + 10\n",
    "            \n",
    "        else:\n",
    "            print(incr_one_by_n1,'0'*no_of_zeros,sep='')\n",
    "            flag1 = True\n",
    "            break\n",
    "        \n",
    "        if(check(incr_one_by_n2,pattern) != True):\n",
    "            incr_one_by_n2 = incr_one_by_n2 + 10\n",
    "                \n",
    "        else:\n",
    "            print(incr_one_by_n2,'0'*no_of_zeros,sep='')\n",
    "            flag2 = True\n",
    "            break\n",
    "    else:\n",
    "        flag1 = True\n",
    "        flag2 = True\n",
    "        break\n",
    "    if(flag1 and flag2):\n",
    "        break\n"
   ]
  },
  {
   "cell_type": "markdown",
   "metadata": {},
   "source": [
    "# 285%6"
   ]
  },
  {
   "cell_type": "code",
   "execution_count": 24,
   "metadata": {},
   "outputs": [
    {
     "data": {
      "text/plain": [
       "5780"
      ]
     },
     "execution_count": 24,
     "metadata": {},
     "output_type": "execute_result"
    }
   ],
   "source": [
    "86436 -80656"
   ]
  },
  {
   "cell_type": "code",
   "execution_count": 10,
   "metadata": {},
   "outputs": [
    {
     "data": {
      "text/plain": [
       "20340"
      ]
     },
     "execution_count": 10,
     "metadata": {},
     "output_type": "execute_result"
    }
   ],
   "source": [
    "1044484 - 1024144"
   ]
  },
  {
   "cell_type": "code",
   "execution_count": 11,
   "metadata": {},
   "outputs": [
    {
     "data": {
      "text/plain": [
       "20540"
      ]
     },
     "execution_count": 11,
     "metadata": {},
     "output_type": "execute_result"
    }
   ],
   "source": [
    "1065024 - 1044484"
   ]
  },
  {
   "cell_type": "code",
   "execution_count": 12,
   "metadata": {},
   "outputs": [
    {
     "data": {
      "text/plain": [
       "20740"
      ]
     },
     "execution_count": 12,
     "metadata": {},
     "output_type": "execute_result"
    }
   ],
   "source": [
    "1085764 - 1065024"
   ]
  },
  {
   "cell_type": "code",
   "execution_count": 14,
   "metadata": {},
   "outputs": [
    {
     "data": {
      "text/plain": [
       "20940"
      ]
     },
     "execution_count": 14,
     "metadata": {},
     "output_type": "execute_result"
    }
   ],
   "source": [
    "1106704 - 1085764"
   ]
  },
  {
   "cell_type": "code",
   "execution_count": 15,
   "metadata": {},
   "outputs": [
    {
     "data": {
      "text/plain": [
       "21140"
      ]
     },
     "execution_count": 15,
     "metadata": {},
     "output_type": "execute_result"
    }
   ],
   "source": [
    "1127844 - 1106704"
   ]
  },
  {
   "cell_type": "code",
   "execution_count": 16,
   "metadata": {},
   "outputs": [
    {
     "data": {
      "text/plain": [
       "21340"
      ]
     },
     "execution_count": 16,
     "metadata": {},
     "output_type": "execute_result"
    }
   ],
   "source": [
    "1149184 - 1127844\n",
    "21340 - "
   ]
  },
  {
   "cell_type": "markdown",
   "metadata": {},
   "source": [
    "n2"
   ]
  },
  {
   "cell_type": "code",
   "execution_count": 17,
   "metadata": {},
   "outputs": [
    {
     "data": {
      "text/plain": [
       "-20260"
      ]
     },
     "execution_count": 17,
     "metadata": {},
     "output_type": "execute_result"
    }
   ],
   "source": [
    "1016064 - 1036324"
   ]
  },
  {
   "cell_type": "code",
   "execution_count": 18,
   "metadata": {},
   "outputs": [
    {
     "data": {
      "text/plain": [
       "20460"
      ]
     },
     "execution_count": 18,
     "metadata": {},
     "output_type": "execute_result"
    }
   ],
   "source": [
    "1056784 - 1036324"
   ]
  },
  {
   "cell_type": "code",
   "execution_count": 19,
   "metadata": {},
   "outputs": [
    {
     "data": {
      "text/plain": [
       "20660"
      ]
     },
     "execution_count": 19,
     "metadata": {},
     "output_type": "execute_result"
    }
   ],
   "source": [
    "1077444 - 1056784"
   ]
  },
  {
   "cell_type": "code",
   "execution_count": 20,
   "metadata": {},
   "outputs": [
    {
     "data": {
      "text/plain": [
       "20860"
      ]
     },
     "execution_count": 20,
     "metadata": {},
     "output_type": "execute_result"
    }
   ],
   "source": [
    "1098304 - 1077444"
   ]
  },
  {
   "cell_type": "code",
   "execution_count": 22,
   "metadata": {},
   "outputs": [
    {
     "data": {
      "text/plain": [
       "20640"
      ]
     },
     "execution_count": 22,
     "metadata": {},
     "output_type": "execute_result"
    }
   ],
   "source": [
    "1075369 - 1054729"
   ]
  },
  {
   "cell_type": "code",
   "execution_count": null,
   "metadata": {},
   "outputs": [],
   "source": []
  }
 ],
 "metadata": {
  "kernelspec": {
   "display_name": "Python 3",
   "language": "python",
   "name": "python3"
  },
  "language_info": {
   "codemirror_mode": {
    "name": "ipython",
    "version": 3
   },
   "file_extension": ".py",
   "mimetype": "text/x-python",
   "name": "python",
   "nbconvert_exporter": "python",
   "pygments_lexer": "ipython3",
   "version": "3.7.4"
  }
 },
 "nbformat": 4,
 "nbformat_minor": 2
}
